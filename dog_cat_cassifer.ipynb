{
 "cells": [
  {
   "cell_type": "code",
   "execution_count": 8,
   "id": "37644ef1",
   "metadata": {},
   "outputs": [],
   "source": [
    "import os\n",
    "import cv2\n",
    "import matplotlib.pyplot as plt\n",
    "import numpy as np\n",
    "import tensorflow as tf\n",
    "import keras\n",
    "#!pip install opencv-python"
   ]
  },
  {
   "cell_type": "code",
   "execution_count": 29,
   "id": "2d39d851",
   "metadata": {},
   "outputs": [],
   "source": [
    "# path name , file name \n",
    "\n",
    "path1 = r\"C:\\Users\\Siddhesh Patil\\OneDrive\\Desktop\\imarticus\\pranjal sir home ass\\dogcat\"\n",
    "cate = ['dog' , 'cat']"
   ]
  },
  {
   "cell_type": "code",
   "execution_count": 30,
   "id": "feea7530",
   "metadata": {},
   "outputs": [
    {
     "name": "stdout",
     "output_type": "stream",
     "text": [
      "C:\\Users\\Siddhesh Patil\\OneDrive\\Desktop\\imarticus\\pranjal sir home ass\\dogcat\\dog\n",
      "C:\\Users\\Siddhesh Patil\\OneDrive\\Desktop\\imarticus\\pranjal sir home ass\\dogcat\\cat\n"
     ]
    }
   ],
   "source": [
    "for i in cate:\n",
    "    folders = os.path.join(path1 , i)\n",
    "    print(folders)"
   ]
  },
  {
   "cell_type": "code",
   "execution_count": 31,
   "id": "a6db6f3b",
   "metadata": {},
   "outputs": [],
   "source": [
    "for i in cate:\n",
    "    folders = os.path.join(path1 , i)\n",
    "    for image in os.listdir(folders):\n",
    "        image_path = os.path.join(folders , image)\n",
    "      #  print(image_path)"
   ]
  },
  {
   "cell_type": "code",
   "execution_count": 32,
   "id": "841229a9",
   "metadata": {},
   "outputs": [],
   "source": [
    "# for i in cate:\n",
    "#     folders = os.path.join(path1 , i)\n",
    "#     for image in os.listdir(folders):\n",
    "#         image_path = os.path.join(folders , image)\n",
    "#         image_array = cv2.imread(image_path)\n",
    "#         plt.imshow(image_array)\n",
    "#         break"
   ]
  },
  {
   "cell_type": "code",
   "execution_count": 33,
   "id": "8a850af8",
   "metadata": {},
   "outputs": [],
   "source": [
    "image_size = 200\n",
    "input_image = []\n",
    "\n",
    "for i in cate:\n",
    "    folders = os.path.join(path1 , i)\n",
    "    label = cate.index(i)\n",
    "    for image in os.listdir(folders):\n",
    "        image_path = os.path.join(folders , image)\n",
    "        image_array = cv2.imread(image_path)\n",
    "        image_array = cv2.resize(image_array , (image_size , image_size))\n",
    "        input_image.append([image_array , label])"
   ]
  },
  {
   "cell_type": "code",
   "execution_count": 34,
   "id": "3a368be4",
   "metadata": {},
   "outputs": [
    {
     "data": {
      "text/plain": [
       "332"
      ]
     },
     "execution_count": 34,
     "metadata": {},
     "output_type": "execute_result"
    }
   ],
   "source": [
    "len(input_image)"
   ]
  },
  {
   "cell_type": "code",
   "execution_count": 35,
   "id": "3ea66ab7",
   "metadata": {},
   "outputs": [],
   "source": [
    "# input_image[500]"
   ]
  },
  {
   "cell_type": "code",
   "execution_count": 84,
   "id": "ba360631",
   "metadata": {},
   "outputs": [
    {
     "data": {
      "text/plain": [
       "1660.0"
      ]
     },
     "execution_count": 84,
     "metadata": {},
     "output_type": "execute_result"
    }
   ],
   "source": []
  },
  {
   "cell_type": "code",
   "execution_count": 36,
   "id": "0024baf7",
   "metadata": {},
   "outputs": [],
   "source": [
    "np.random.shuffle(input_image) # random sampling"
   ]
  },
  {
   "cell_type": "code",
   "execution_count": 37,
   "id": "a83c26cd",
   "metadata": {},
   "outputs": [],
   "source": [
    "# till this point x and y are atatched to a single image \n",
    "# lets seprate them \n",
    "\n",
    "\n",
    "x= []\n",
    "y = []\n",
    "\n",
    "\n",
    "for x_values , y_values in input_image:\n",
    "    x.append(x_values)\n",
    "    y.append(y_values)"
   ]
  },
  {
   "cell_type": "code",
   "execution_count": 38,
   "id": "f7f63759",
   "metadata": {},
   "outputs": [],
   "source": [
    "x = np.array(x)\n",
    "y = np.array(y)"
   ]
  },
  {
   "cell_type": "code",
   "execution_count": 39,
   "id": "07023a8e",
   "metadata": {},
   "outputs": [
    {
     "data": {
      "text/plain": [
       "(332, 200, 200, 3)"
      ]
     },
     "execution_count": 39,
     "metadata": {},
     "output_type": "execute_result"
    }
   ],
   "source": [
    "x.shape"
   ]
  },
  {
   "cell_type": "code",
   "execution_count": 67,
   "id": "c4299541",
   "metadata": {},
   "outputs": [],
   "source": [
    "x = x / 255"
   ]
  },
  {
   "cell_type": "code",
   "execution_count": null,
   "id": "40ddc85f",
   "metadata": {},
   "outputs": [],
   "source": []
  },
  {
   "cell_type": "code",
   "execution_count": 85,
   "id": "4a0da642",
   "metadata": {},
   "outputs": [],
   "source": [
    "x_train=x[0:265]\n",
    "y_train=y[0:265]\n",
    "\n",
    "x_test=x[265:]\n",
    "y_test=y[265:]"
   ]
  },
  {
   "cell_type": "code",
   "execution_count": null,
   "id": "b2ac603b",
   "metadata": {},
   "outputs": [],
   "source": []
  },
  {
   "cell_type": "code",
   "execution_count": null,
   "id": "ff652796",
   "metadata": {},
   "outputs": [],
   "source": []
  },
  {
   "cell_type": "code",
   "execution_count": 86,
   "id": "516e4788",
   "metadata": {},
   "outputs": [],
   "source": [
    "from keras.layers import Conv2D , MaxPool2D , Flatten ,Dense , Dropout"
   ]
  },
  {
   "cell_type": "code",
   "execution_count": 87,
   "id": "04dbdf22",
   "metadata": {},
   "outputs": [
    {
     "name": "stderr",
     "output_type": "stream",
     "text": [
      "WARNING:absl:`lr` is deprecated in Keras optimizer, please use `learning_rate` or use the legacy optimizer, e.g.,tf.keras.optimizers.legacy.Adam.\n"
     ]
    }
   ],
   "source": [
    "model = tf.keras.models.Sequential()\n",
    "model.add(Conv2D(filters=32 , kernel_size= (5,5) ,\n",
    "                 activation='relu' , padding='same'))\n",
    "\n",
    "model.add(MaxPool2D  (pool_size = (2,2)))\n",
    "\n",
    "\n",
    "model.add(Flatten())\n",
    "model.add(Dense(10,activation='softmax'))\n",
    "adam = tf.keras.optimizers.Adam(lr = .001)\n",
    "model.compile(optimizer=adam , loss ='sparse_categorical_crossentropy' , metrics=['accuracy'])"
   ]
  },
  {
   "cell_type": "code",
   "execution_count": 88,
   "id": "29432d8f",
   "metadata": {},
   "outputs": [
    {
     "name": "stdout",
     "output_type": "stream",
     "text": [
      "Epoch 1/10\n",
      "9/9 [==============================] - 4s 363ms/step - loss: 1.1909 - accuracy: 0.4340\n",
      "Epoch 2/10\n",
      "9/9 [==============================] - 4s 404ms/step - loss: 0.7920 - accuracy: 0.5547\n",
      "Epoch 3/10\n",
      "9/9 [==============================] - 4s 410ms/step - loss: 0.7093 - accuracy: 0.5094\n",
      "Epoch 4/10\n",
      "9/9 [==============================] - 4s 394ms/step - loss: 0.6816 - accuracy: 0.5849\n",
      "Epoch 5/10\n",
      "9/9 [==============================] - 4s 410ms/step - loss: 0.8049 - accuracy: 0.5321\n",
      "Epoch 6/10\n",
      "9/9 [==============================] - 4s 392ms/step - loss: 0.7152 - accuracy: 0.5434\n",
      "Epoch 7/10\n",
      "9/9 [==============================] - 4s 392ms/step - loss: 0.7276 - accuracy: 0.5547\n",
      "Epoch 8/10\n",
      "9/9 [==============================] - 4s 390ms/step - loss: 0.6930 - accuracy: 0.5811\n",
      "Epoch 9/10\n",
      "9/9 [==============================] - 4s 394ms/step - loss: 0.6845 - accuracy: 0.6113\n",
      "Epoch 10/10\n",
      "9/9 [==============================] - 4s 389ms/step - loss: 0.7072 - accuracy: 0.4868\n"
     ]
    },
    {
     "data": {
      "text/plain": [
       "<keras.callbacks.History at 0x19b878554c0>"
      ]
     },
     "execution_count": 88,
     "metadata": {},
     "output_type": "execute_result"
    }
   ],
   "source": [
    "model.fit(x_train,y_train , epochs=10)"
   ]
  },
  {
   "cell_type": "code",
   "execution_count": null,
   "id": "d57c6262",
   "metadata": {},
   "outputs": [],
   "source": []
  },
  {
   "cell_type": "code",
   "execution_count": 89,
   "id": "61a64374",
   "metadata": {},
   "outputs": [
    {
     "name": "stdout",
     "output_type": "stream",
     "text": [
      "3/3 [==============================] - 0s 44ms/step\n"
     ]
    }
   ],
   "source": [
    "pred = model.predict(x_test)"
   ]
  },
  {
   "cell_type": "code",
   "execution_count": 90,
   "id": "ada33fda",
   "metadata": {},
   "outputs": [],
   "source": [
    "from sklearn.metrics import confusion_matrix , accuracy_score"
   ]
  },
  {
   "cell_type": "code",
   "execution_count": 91,
   "id": "8ac7de2e",
   "metadata": {},
   "outputs": [],
   "source": [
    "pred_class = np.argmax(pred , axis = 1)"
   ]
  },
  {
   "cell_type": "code",
   "execution_count": 92,
   "id": "1e67c8a2",
   "metadata": {},
   "outputs": [
    {
     "data": {
      "text/plain": [
       "array([[29, 38],\n",
       "       [ 0,  0]], dtype=int64)"
      ]
     },
     "execution_count": 92,
     "metadata": {},
     "output_type": "execute_result"
    }
   ],
   "source": [
    "confusion_matrix(pred_class , y_test)"
   ]
  },
  {
   "cell_type": "code",
   "execution_count": 93,
   "id": "b2b163f5",
   "metadata": {},
   "outputs": [
    {
     "data": {
      "text/plain": [
       "43.28358208955223"
      ]
     },
     "execution_count": 93,
     "metadata": {},
     "output_type": "execute_result"
    }
   ],
   "source": [
    "accuracy_score(pred_class , y_test)*100"
   ]
  },
  {
   "cell_type": "code",
   "execution_count": 94,
   "id": "e0539e99",
   "metadata": {},
   "outputs": [],
   "source": [
    "model.save('dog_cat_model.h5')"
   ]
  },
  {
   "cell_type": "code",
   "execution_count": 95,
   "id": "9d5443c7",
   "metadata": {},
   "outputs": [
    {
     "data": {
      "text/plain": [
       "'D:\\\\Python_imarticus_Pranjal_sir'"
      ]
     },
     "execution_count": 95,
     "metadata": {},
     "output_type": "execute_result"
    }
   ],
   "source": [
    "pwd"
   ]
  },
  {
   "cell_type": "code",
   "execution_count": null,
   "id": "41b35ecb",
   "metadata": {},
   "outputs": [],
   "source": []
  },
  {
   "cell_type": "code",
   "execution_count": null,
   "id": "5d0a9e89",
   "metadata": {},
   "outputs": [],
   "source": []
  },
  {
   "cell_type": "code",
   "execution_count": null,
   "id": "60298f81",
   "metadata": {},
   "outputs": [],
   "source": []
  },
  {
   "cell_type": "code",
   "execution_count": null,
   "id": "13eec10e",
   "metadata": {},
   "outputs": [],
   "source": []
  },
  {
   "cell_type": "code",
   "execution_count": null,
   "id": "c6293b4d",
   "metadata": {},
   "outputs": [],
   "source": []
  },
  {
   "cell_type": "code",
   "execution_count": null,
   "id": "01c07938",
   "metadata": {},
   "outputs": [],
   "source": []
  },
  {
   "cell_type": "code",
   "execution_count": null,
   "id": "f94a3bc9",
   "metadata": {},
   "outputs": [],
   "source": []
  },
  {
   "cell_type": "code",
   "execution_count": null,
   "id": "71f47241",
   "metadata": {},
   "outputs": [],
   "source": []
  },
  {
   "cell_type": "code",
   "execution_count": null,
   "id": "c836e382",
   "metadata": {},
   "outputs": [],
   "source": []
  },
  {
   "cell_type": "code",
   "execution_count": null,
   "id": "499d085c",
   "metadata": {},
   "outputs": [],
   "source": []
  },
  {
   "cell_type": "code",
   "execution_count": null,
   "id": "ec2a9ead",
   "metadata": {},
   "outputs": [],
   "source": []
  }
 ],
 "metadata": {
  "kernelspec": {
   "display_name": "Python 3 (ipykernel)",
   "language": "python",
   "name": "python3"
  },
  "language_info": {
   "codemirror_mode": {
    "name": "ipython",
    "version": 3
   },
   "file_extension": ".py",
   "mimetype": "text/x-python",
   "name": "python",
   "nbconvert_exporter": "python",
   "pygments_lexer": "ipython3",
   "version": "3.9.12"
  }
 },
 "nbformat": 4,
 "nbformat_minor": 5
}
